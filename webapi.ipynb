{
 "cells": [
  {
   "cell_type": "code",
   "execution_count": 1,
   "id": "cc875e26-43bf-46c8-a84d-b3bbf21e86fe",
   "metadata": {},
   "outputs": [
    {
     "data": {
      "text/plain": [
       "'Q1. What is an API? Give an example, where an API is used in real life.'"
      ]
     },
     "execution_count": 1,
     "metadata": {},
     "output_type": "execute_result"
    }
   ],
   "source": [
    "'''Q1. What is an API? Give an example, where an API is used in real life.'''"
   ]
  },
  {
   "cell_type": "code",
   "execution_count": 2,
   "id": "857dec5a-ccf9-4440-bd29-0c2b2ffce34d",
   "metadata": {},
   "outputs": [],
   "source": [
    "# API is an acronym for application programming interface, and is considered a set of protocols for building application software.\n",
    "# Practically speaking, APIs are the basis of much of what keeps people digitally connected. \n",
    "\n",
    "# Example --- As we see in google search we write some query in it ,,after that in backend some code is get executed regarding to \n",
    "# that query or we can say related to that query ,,,then after execution the required content related to our query is get displayed.."
   ]
  },
  {
   "cell_type": "code",
   "execution_count": 3,
   "id": "f5333ac5-a362-45ed-9362-4d5c2abcb0cf",
   "metadata": {},
   "outputs": [
    {
     "data": {
      "text/plain": [
       "'Q2. Give advantages and disadvantages of using API.\\xa0'"
      ]
     },
     "execution_count": 3,
     "metadata": {},
     "output_type": "execute_result"
    }
   ],
   "source": [
    "'''Q2. Give advantages and disadvantages of using API. '''"
   ]
  },
  {
   "cell_type": "code",
   "execution_count": 5,
   "id": "992b1d83-6464-4e86-aa7b-0a9f4e344e93",
   "metadata": {},
   "outputs": [],
   "source": [
    "# ADVANTAGES....\n",
    "\n",
    "# 1.Efficiency: API produces efficient, quicker, and more reliable results than the outputs produced by human beings in an \n",
    "#organization.\n",
    "# 2.Flexible delivery of services: API provides fast and flexible delivery of services according to developers’ requirements.\n",
    "# 3.Integration: The best feature of API is that it allows the movement of data between various sites and thus enhances the \n",
    "#integrated user experience.\n",
    "# 4.Automation: As API makes use of robotic computers rather than humans, it produces better and more automated results.\n",
    "# 5.New functionality: While using API the developers find new tools and functionality for API exchanges."
   ]
  },
  {
   "cell_type": "code",
   "execution_count": 6,
   "id": "cca8748e-5c12-49b3-949b-73a2870f5b76",
   "metadata": {},
   "outputs": [],
   "source": [
    "# DISADVANTAGES....\n",
    "\n",
    "# 1.Cost: Developing and implementing API is costly at times and requires high maintenance and support from developers.\n",
    "# 2.Security issues: Using API adds another layer of surface which is then prone to attacks, and hence the security risk problem is \n",
    "#common in APIs."
   ]
  },
  {
   "cell_type": "code",
   "execution_count": null,
   "id": "9fdad023-7b18-47ad-9dc6-df35e84ee7b0",
   "metadata": {},
   "outputs": [],
   "source": []
  },
  {
   "cell_type": "code",
   "execution_count": 7,
   "id": "f03c2b16-eaec-4001-9ae0-e91099f1df33",
   "metadata": {},
   "outputs": [
    {
     "data": {
      "text/plain": [
       "'It is a collection of communication conventions and subroutines used by various programs to communicate between them. A\\ndeveloper can utilize different API apparatuses to make its program simpler and less complex.'"
      ]
     },
     "execution_count": 7,
     "metadata": {},
     "output_type": "execute_result"
    }
   ],
   "source": [
    "'''It is a collection of communication conventions and subroutines used by various programs to communicate between them. A\n",
    "developer can utilize different API apparatuses to make its program simpler and less complex.'''"
   ]
  },
  {
   "cell_type": "code",
   "execution_count": 8,
   "id": "16b5b6ed-5476-4289-8a72-e41f054c8d5e",
   "metadata": {},
   "outputs": [
    {
     "data": {
      "text/plain": [
       "'The main difference between an API and a Web API is that APIs can be accessed through different channels, including desktop \\napplications, mobile apps, and embedded systems, whereas Web APIs are specifically designed to be accessed over the web using HTTP.'"
      ]
     },
     "execution_count": 8,
     "metadata": {},
     "output_type": "execute_result"
    }
   ],
   "source": [
    "'''The main difference between an API and a Web API is that APIs can be accessed through different channels, including desktop \n",
    "applications, mobile apps, and embedded systems, whereas Web APIs are specifically designed to be accessed over the web using HTTP.'''"
   ]
  },
  {
   "cell_type": "code",
   "execution_count": 9,
   "id": "53b7a7e0-be6c-4b3c-88ea-d00dea67c8f6",
   "metadata": {},
   "outputs": [],
   "source": [
    "# Features\tAPI\tWeb API\n",
    "# Access\tCan be accessed through various channels, including desktop applications, mobile apps, and embedded systems\t ||  # Specifically designed to be accessed over the web using HTTP\n",
    "# Protocol\tMay use different communication protocols and data formats depending on their design ||\t# Typically use standard web technologies such as REST or SOAP\n",
    "# Resource\tCan provide access to various types of services and resources, such as operating system functions, hardware devices, or databases\t|| # Provide access to web-based services and resources such as databases, file systems, or other web services\n",
    "# Integration\tCan be integrated with a wide range of software systems and applications\t|| # Often integrated with web-based software systems and applications\n",
    "# Security\tSecurity protocols can vary depending on the design and implementation of the API\t|| # Typically use standard web security protocols such as OAuth or SSL/TLS\n",
    "# Examples\tOperating system APIs, hardware APIs, database APIs, etc.\t|| # AlphaVantage API, Google Maps API, Twitter API, Facebook API, etc."
   ]
  },
  {
   "cell_type": "code",
   "execution_count": 10,
   "id": "11666f9f-70ac-4161-b9d0-1bcd62e89fbc",
   "metadata": {},
   "outputs": [
    {
     "data": {
      "text/plain": [
       "'Q4. Explain REST and SOAP Architecture. Mention shortcomings of SOAP.'"
      ]
     },
     "execution_count": 10,
     "metadata": {},
     "output_type": "execute_result"
    }
   ],
   "source": [
    "'''Q4. Explain REST and SOAP Architecture. Mention shortcomings of SOAP.'''"
   ]
  },
  {
   "cell_type": "code",
   "execution_count": 11,
   "id": "794534fc-d94a-4d29-a014-b36c66cda366",
   "metadata": {},
   "outputs": [
    {
     "data": {
      "text/plain": [
       "'REST (Representational State Transfer) is an architectural style that emphasizes the use of HTTP methods and resource URIs\\n(Uniform Resource Identifiers) to represent and manipulate web resources. RESTful APIs typically use standard HTTP methods such \\nas GET, POST, PUT, and DELETE to retrieve, create, update, and delete resources. REST is lightweight and scalable, and can be\\neasily implemented using simple HTTP protocols.'"
      ]
     },
     "execution_count": 11,
     "metadata": {},
     "output_type": "execute_result"
    }
   ],
   "source": [
    "'''REST (Representational State Transfer) is an architectural style that emphasizes the use of HTTP methods and resource URIs\n",
    "(Uniform Resource Identifiers) to represent and manipulate web resources. RESTful APIs typically use standard HTTP methods such \n",
    "as GET, POST, PUT, and DELETE to retrieve, create, update, and delete resources. REST is lightweight and scalable, and can be\n",
    "easily implemented using simple HTTP protocols.'''"
   ]
  },
  {
   "cell_type": "code",
   "execution_count": 12,
   "id": "39fde3f2-9b30-46fa-9a6b-60600aaad448",
   "metadata": {},
   "outputs": [
    {
     "data": {
      "text/plain": [
       "'SOAP (Simple Object Access Protocol), on the other hand, is a protocol that defines a standard format for exchanging structured \\ndata between applications over the internet. SOAP relies on XML (Extensible Markup Language) as its messaging format, and typically \\nuses the HTTP or SMTP (Simple Mail Transfer Protocol) protocols for communication. SOAP is highly structured and can be used for\\ncomplex operations, but can also be more cumbersome to implement and use than RESTful APIs.'"
      ]
     },
     "execution_count": 12,
     "metadata": {},
     "output_type": "execute_result"
    }
   ],
   "source": [
    "'''SOAP (Simple Object Access Protocol), on the other hand, is a protocol that defines a standard format for exchanging structured \n",
    "data between applications over the internet. SOAP relies on XML (Extensible Markup Language) as its messaging format, and typically \n",
    "uses the HTTP or SMTP (Simple Mail Transfer Protocol) protocols for communication. SOAP is highly structured and can be used for\n",
    "complex operations, but can also be more cumbersome to implement and use than RESTful APIs.'''"
   ]
  },
  {
   "cell_type": "code",
   "execution_count": 13,
   "id": "5d0b3da2-3f24-4f95-b3f6-fe579bea59e3",
   "metadata": {},
   "outputs": [],
   "source": [
    "# One of the main shortcomings of SOAP is its complexity. SOAP relies on a complex XML schema that can be difficult to read and\n",
    "#understand, and the protocol itself can be cumbersome to implement and use. SOAP also tends to be more resource-intensive than\n",
    "#RESTful APIs, which can make it less suitable for high-volume or low-bandwidth environments.\n",
    "\n",
    "# Additionally, SOAP can be less flexible than REST, as it requires a strict adherence to a predefined interface and message format.\n",
    "#This can make it difficult to customize or extend SOAP-based APIs to suit specific use cases or applications."
   ]
  },
  {
   "cell_type": "code",
   "execution_count": 14,
   "id": "69c605d9-bf5c-40c7-8652-a9d503eba857",
   "metadata": {},
   "outputs": [
    {
     "data": {
      "text/plain": [
       "'Q5. Differentiate between REST and SOAP.'"
      ]
     },
     "execution_count": 14,
     "metadata": {},
     "output_type": "execute_result"
    }
   ],
   "source": [
    "'''Q5. Differentiate between REST and SOAP.'''"
   ]
  },
  {
   "cell_type": "code",
   "execution_count": null,
   "id": "536a8bb4-7223-4841-8f32-0aee62b95261",
   "metadata": {},
   "outputs": [],
   "source": [
    "Feature\tREST\tSOAP\n",
    "Protocol\tUses HTTP ||\tCan use HTTP, SMTP, and others\n",
    "Data format\tTypically uses JSON or XML\t|| Always uses XML\n",
    "Communication style\tStateless, each request contains all information needed\tCan be stateful or stateless\n",
    "Message structure\tDoesn't define a specific message structure\tHas a standardized message structure defined by XML schema\n",
    "Performance\tGenerally faster and more lightweight\tCan be more resource-intensive and slower\n",
    "Flexibility\tGenerally more flexible\tOften more rigid and requires more planning and design"
   ]
  }
 ],
 "metadata": {
  "kernelspec": {
   "display_name": "Python 3 (ipykernel)",
   "language": "python",
   "name": "python3"
  },
  "language_info": {
   "codemirror_mode": {
    "name": "ipython",
    "version": 3
   },
   "file_extension": ".py",
   "mimetype": "text/x-python",
   "name": "python",
   "nbconvert_exporter": "python",
   "pygments_lexer": "ipython3",
   "version": "3.10.8"
  }
 },
 "nbformat": 4,
 "nbformat_minor": 5
}
